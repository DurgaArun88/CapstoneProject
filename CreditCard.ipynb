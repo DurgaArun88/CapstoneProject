{
 "cells": [
  {
   "cell_type": "code",
   "execution_count": 1,
   "id": "0e35b0d3-a450-496f-b03b-9fcff01427c3",
   "metadata": {},
   "outputs": [],
   "source": [
    "# DATA PREPROCESSING"
   ]
  },
  {
   "cell_type": "code",
   "execution_count": 1,
   "id": "f124e625-3d7e-4644-a14e-f8301984578c",
   "metadata": {},
   "outputs": [],
   "source": [
    "# import the libraries\n",
    "\n",
    "import numpy as np\n",
    "import pandas as pd\n",
    "import seaborn as sns\n",
    "import matplotlib.pyplot as plt"
   ]
  },
  {
   "cell_type": "code",
   "execution_count": 10,
   "id": "b1998588-faec-4e77-8672-6e85a0a7f9b2",
   "metadata": {},
   "outputs": [
    {
     "name": "stdout",
     "output_type": "stream",
     "text": [
      "True\n"
     ]
    }
   ],
   "source": [
    "import os\n",
    "print(os.path.exists('D:/Durga/Upgrad/creditcard.csv'))"
   ]
  },
  {
   "cell_type": "code",
   "execution_count": 13,
   "id": "1973510e-fe2f-4669-983a-2d1383de1a12",
   "metadata": {},
   "outputs": [],
   "source": [
    "# Loading the data using pandas\n",
    "\n",
    "df = pd.read_csv(r'D:/Durga/Upgrad/creditcard.csv')"
   ]
  },
  {
   "cell_type": "code",
   "execution_count": 14,
   "id": "6286e248-4596-44a0-b0a9-c30518c77afa",
   "metadata": {},
   "outputs": [
    {
     "data": {
      "text/html": [
       "<div>\n",
       "<style scoped>\n",
       "    .dataframe tbody tr th:only-of-type {\n",
       "        vertical-align: middle;\n",
       "    }\n",
       "\n",
       "    .dataframe tbody tr th {\n",
       "        vertical-align: top;\n",
       "    }\n",
       "\n",
       "    .dataframe thead th {\n",
       "        text-align: right;\n",
       "    }\n",
       "</style>\n",
       "<table border=\"1\" class=\"dataframe\">\n",
       "  <thead>\n",
       "    <tr style=\"text-align: right;\">\n",
       "      <th></th>\n",
       "      <th>Time</th>\n",
       "      <th>V1</th>\n",
       "      <th>V2</th>\n",
       "      <th>V3</th>\n",
       "      <th>V4</th>\n",
       "      <th>V5</th>\n",
       "      <th>V6</th>\n",
       "      <th>V7</th>\n",
       "      <th>V8</th>\n",
       "      <th>V9</th>\n",
       "      <th>...</th>\n",
       "      <th>V21</th>\n",
       "      <th>V22</th>\n",
       "      <th>V23</th>\n",
       "      <th>V24</th>\n",
       "      <th>V25</th>\n",
       "      <th>V26</th>\n",
       "      <th>V27</th>\n",
       "      <th>V28</th>\n",
       "      <th>Amount</th>\n",
       "      <th>Class</th>\n",
       "    </tr>\n",
       "  </thead>\n",
       "  <tbody>\n",
       "    <tr>\n",
       "      <th>0</th>\n",
       "      <td>0.0</td>\n",
       "      <td>-1.359807</td>\n",
       "      <td>-0.072781</td>\n",
       "      <td>2.536347</td>\n",
       "      <td>1.378155</td>\n",
       "      <td>-0.338321</td>\n",
       "      <td>0.462388</td>\n",
       "      <td>0.239599</td>\n",
       "      <td>0.098698</td>\n",
       "      <td>0.363787</td>\n",
       "      <td>...</td>\n",
       "      <td>-0.018307</td>\n",
       "      <td>0.277838</td>\n",
       "      <td>-0.110474</td>\n",
       "      <td>0.066928</td>\n",
       "      <td>0.128539</td>\n",
       "      <td>-0.189115</td>\n",
       "      <td>0.133558</td>\n",
       "      <td>-0.021053</td>\n",
       "      <td>149.62</td>\n",
       "      <td>0</td>\n",
       "    </tr>\n",
       "    <tr>\n",
       "      <th>1</th>\n",
       "      <td>0.0</td>\n",
       "      <td>1.191857</td>\n",
       "      <td>0.266151</td>\n",
       "      <td>0.166480</td>\n",
       "      <td>0.448154</td>\n",
       "      <td>0.060018</td>\n",
       "      <td>-0.082361</td>\n",
       "      <td>-0.078803</td>\n",
       "      <td>0.085102</td>\n",
       "      <td>-0.255425</td>\n",
       "      <td>...</td>\n",
       "      <td>-0.225775</td>\n",
       "      <td>-0.638672</td>\n",
       "      <td>0.101288</td>\n",
       "      <td>-0.339846</td>\n",
       "      <td>0.167170</td>\n",
       "      <td>0.125895</td>\n",
       "      <td>-0.008983</td>\n",
       "      <td>0.014724</td>\n",
       "      <td>2.69</td>\n",
       "      <td>0</td>\n",
       "    </tr>\n",
       "    <tr>\n",
       "      <th>2</th>\n",
       "      <td>1.0</td>\n",
       "      <td>-1.358354</td>\n",
       "      <td>-1.340163</td>\n",
       "      <td>1.773209</td>\n",
       "      <td>0.379780</td>\n",
       "      <td>-0.503198</td>\n",
       "      <td>1.800499</td>\n",
       "      <td>0.791461</td>\n",
       "      <td>0.247676</td>\n",
       "      <td>-1.514654</td>\n",
       "      <td>...</td>\n",
       "      <td>0.247998</td>\n",
       "      <td>0.771679</td>\n",
       "      <td>0.909412</td>\n",
       "      <td>-0.689281</td>\n",
       "      <td>-0.327642</td>\n",
       "      <td>-0.139097</td>\n",
       "      <td>-0.055353</td>\n",
       "      <td>-0.059752</td>\n",
       "      <td>378.66</td>\n",
       "      <td>0</td>\n",
       "    </tr>\n",
       "    <tr>\n",
       "      <th>3</th>\n",
       "      <td>1.0</td>\n",
       "      <td>-0.966272</td>\n",
       "      <td>-0.185226</td>\n",
       "      <td>1.792993</td>\n",
       "      <td>-0.863291</td>\n",
       "      <td>-0.010309</td>\n",
       "      <td>1.247203</td>\n",
       "      <td>0.237609</td>\n",
       "      <td>0.377436</td>\n",
       "      <td>-1.387024</td>\n",
       "      <td>...</td>\n",
       "      <td>-0.108300</td>\n",
       "      <td>0.005274</td>\n",
       "      <td>-0.190321</td>\n",
       "      <td>-1.175575</td>\n",
       "      <td>0.647376</td>\n",
       "      <td>-0.221929</td>\n",
       "      <td>0.062723</td>\n",
       "      <td>0.061458</td>\n",
       "      <td>123.50</td>\n",
       "      <td>0</td>\n",
       "    </tr>\n",
       "    <tr>\n",
       "      <th>4</th>\n",
       "      <td>2.0</td>\n",
       "      <td>-1.158233</td>\n",
       "      <td>0.877737</td>\n",
       "      <td>1.548718</td>\n",
       "      <td>0.403034</td>\n",
       "      <td>-0.407193</td>\n",
       "      <td>0.095921</td>\n",
       "      <td>0.592941</td>\n",
       "      <td>-0.270533</td>\n",
       "      <td>0.817739</td>\n",
       "      <td>...</td>\n",
       "      <td>-0.009431</td>\n",
       "      <td>0.798278</td>\n",
       "      <td>-0.137458</td>\n",
       "      <td>0.141267</td>\n",
       "      <td>-0.206010</td>\n",
       "      <td>0.502292</td>\n",
       "      <td>0.219422</td>\n",
       "      <td>0.215153</td>\n",
       "      <td>69.99</td>\n",
       "      <td>0</td>\n",
       "    </tr>\n",
       "  </tbody>\n",
       "</table>\n",
       "<p>5 rows × 31 columns</p>\n",
       "</div>"
      ],
      "text/plain": [
       "   Time        V1        V2        V3        V4        V5        V6        V7  \\\n",
       "0   0.0 -1.359807 -0.072781  2.536347  1.378155 -0.338321  0.462388  0.239599   \n",
       "1   0.0  1.191857  0.266151  0.166480  0.448154  0.060018 -0.082361 -0.078803   \n",
       "2   1.0 -1.358354 -1.340163  1.773209  0.379780 -0.503198  1.800499  0.791461   \n",
       "3   1.0 -0.966272 -0.185226  1.792993 -0.863291 -0.010309  1.247203  0.237609   \n",
       "4   2.0 -1.158233  0.877737  1.548718  0.403034 -0.407193  0.095921  0.592941   \n",
       "\n",
       "         V8        V9  ...       V21       V22       V23       V24       V25  \\\n",
       "0  0.098698  0.363787  ... -0.018307  0.277838 -0.110474  0.066928  0.128539   \n",
       "1  0.085102 -0.255425  ... -0.225775 -0.638672  0.101288 -0.339846  0.167170   \n",
       "2  0.247676 -1.514654  ...  0.247998  0.771679  0.909412 -0.689281 -0.327642   \n",
       "3  0.377436 -1.387024  ... -0.108300  0.005274 -0.190321 -1.175575  0.647376   \n",
       "4 -0.270533  0.817739  ... -0.009431  0.798278 -0.137458  0.141267 -0.206010   \n",
       "\n",
       "        V26       V27       V28  Amount  Class  \n",
       "0 -0.189115  0.133558 -0.021053  149.62      0  \n",
       "1  0.125895 -0.008983  0.014724    2.69      0  \n",
       "2 -0.139097 -0.055353 -0.059752  378.66      0  \n",
       "3 -0.221929  0.062723  0.061458  123.50      0  \n",
       "4  0.502292  0.219422  0.215153   69.99      0  \n",
       "\n",
       "[5 rows x 31 columns]"
      ]
     },
     "execution_count": 14,
     "metadata": {},
     "output_type": "execute_result"
    }
   ],
   "source": [
    "df.head()"
   ]
  },
  {
   "cell_type": "code",
   "execution_count": 15,
   "id": "95f1b5fe-0fb7-4b32-9ad1-c73432a020ad",
   "metadata": {},
   "outputs": [
    {
     "data": {
      "text/plain": [
       "Index(['Time', 'V1', 'V2', 'V3', 'V4', 'V5', 'V6', 'V7', 'V8', 'V9', 'V10',\n",
       "       'V11', 'V12', 'V13', 'V14', 'V15', 'V16', 'V17', 'V18', 'V19', 'V20',\n",
       "       'V21', 'V22', 'V23', 'V24', 'V25', 'V26', 'V27', 'V28', 'Amount',\n",
       "       'Class'],\n",
       "      dtype='object')"
      ]
     },
     "execution_count": 15,
     "metadata": {},
     "output_type": "execute_result"
    }
   ],
   "source": [
    "df.columns"
   ]
  },
  {
   "cell_type": "code",
   "execution_count": 16,
   "id": "3b7eeb35-49e6-4522-8b14-8b8b0d786bf2",
   "metadata": {},
   "outputs": [
    {
     "data": {
      "text/plain": [
       "(284807, 31)"
      ]
     },
     "execution_count": 16,
     "metadata": {},
     "output_type": "execute_result"
    }
   ],
   "source": [
    "df.shape"
   ]
  },
  {
   "cell_type": "code",
   "execution_count": 17,
   "id": "edd280b7-9a7d-44c4-a4e6-b4917e944424",
   "metadata": {},
   "outputs": [
    {
     "name": "stdout",
     "output_type": "stream",
     "text": [
      "<class 'pandas.core.frame.DataFrame'>\n",
      "RangeIndex: 284807 entries, 0 to 284806\n",
      "Data columns (total 31 columns):\n",
      " #   Column  Non-Null Count   Dtype  \n",
      "---  ------  --------------   -----  \n",
      " 0   Time    284807 non-null  float64\n",
      " 1   V1      284807 non-null  float64\n",
      " 2   V2      284807 non-null  float64\n",
      " 3   V3      284807 non-null  float64\n",
      " 4   V4      284807 non-null  float64\n",
      " 5   V5      284807 non-null  float64\n",
      " 6   V6      284807 non-null  float64\n",
      " 7   V7      284807 non-null  float64\n",
      " 8   V8      284807 non-null  float64\n",
      " 9   V9      284807 non-null  float64\n",
      " 10  V10     284807 non-null  float64\n",
      " 11  V11     284807 non-null  float64\n",
      " 12  V12     284807 non-null  float64\n",
      " 13  V13     284807 non-null  float64\n",
      " 14  V14     284807 non-null  float64\n",
      " 15  V15     284807 non-null  float64\n",
      " 16  V16     284807 non-null  float64\n",
      " 17  V17     284807 non-null  float64\n",
      " 18  V18     284807 non-null  float64\n",
      " 19  V19     284807 non-null  float64\n",
      " 20  V20     284807 non-null  float64\n",
      " 21  V21     284807 non-null  float64\n",
      " 22  V22     284807 non-null  float64\n",
      " 23  V23     284807 non-null  float64\n",
      " 24  V24     284807 non-null  float64\n",
      " 25  V25     284807 non-null  float64\n",
      " 26  V26     284807 non-null  float64\n",
      " 27  V27     284807 non-null  float64\n",
      " 28  V28     284807 non-null  float64\n",
      " 29  Amount  284807 non-null  float64\n",
      " 30  Class   284807 non-null  int64  \n",
      "dtypes: float64(30), int64(1)\n",
      "memory usage: 67.4 MB\n"
     ]
    }
   ],
   "source": [
    "df.info()"
   ]
  },
  {
   "cell_type": "code",
   "execution_count": 18,
   "id": "237925a2-7271-4a82-875f-8e885686e53b",
   "metadata": {},
   "outputs": [
    {
     "data": {
      "text/plain": [
       "Time      0\n",
       "V1        0\n",
       "V2        0\n",
       "V3        0\n",
       "V4        0\n",
       "V5        0\n",
       "V6        0\n",
       "V7        0\n",
       "V8        0\n",
       "V9        0\n",
       "V10       0\n",
       "V11       0\n",
       "V12       0\n",
       "V13       0\n",
       "V14       0\n",
       "V15       0\n",
       "V16       0\n",
       "V17       0\n",
       "V18       0\n",
       "V19       0\n",
       "V20       0\n",
       "V21       0\n",
       "V22       0\n",
       "V23       0\n",
       "V24       0\n",
       "V25       0\n",
       "V26       0\n",
       "V27       0\n",
       "V28       0\n",
       "Amount    0\n",
       "Class     0\n",
       "dtype: int64"
      ]
     },
     "execution_count": 18,
     "metadata": {},
     "output_type": "execute_result"
    }
   ],
   "source": [
    "df.isnull().sum()"
   ]
  },
  {
   "cell_type": "code",
   "execution_count": 19,
   "id": "95cb0696-3105-4e7e-b606-934f5117d987",
   "metadata": {},
   "outputs": [],
   "source": [
    "df.dropna(inplace=True)"
   ]
  },
  {
   "cell_type": "code",
   "execution_count": 20,
   "id": "a8a44dca-3b6c-474a-bd75-34eefa618480",
   "metadata": {},
   "outputs": [
    {
     "data": {
      "text/plain": [
       "(284807, 31)"
      ]
     },
     "execution_count": 20,
     "metadata": {},
     "output_type": "execute_result"
    }
   ],
   "source": [
    "df.shape"
   ]
  },
  {
   "cell_type": "code",
   "execution_count": 21,
   "id": "89c0ba93-739a-4f42-94d6-0be9fba8f5c9",
   "metadata": {},
   "outputs": [],
   "source": [
    "# Handling imbalanced data"
   ]
  },
  {
   "cell_type": "code",
   "execution_count": 22,
   "id": "8f91c9e7-95c0-42b6-9467-cd9e70fdbbe4",
   "metadata": {},
   "outputs": [],
   "source": [
    "from sklearn.preprocessing import StandardScaler"
   ]
  },
  {
   "cell_type": "code",
   "execution_count": 23,
   "id": "ba456f28-bbac-4109-bdf7-b47428e4a841",
   "metadata": {},
   "outputs": [],
   "source": [
    "sc = StandardScaler()\n",
    "df['Amount']=sc.fit_transform(pd.DataFrame(df['Amount']))"
   ]
  },
  {
   "cell_type": "code",
   "execution_count": 24,
   "id": "652ddaac-9339-4199-9b17-ef5b16a3d2fb",
   "metadata": {},
   "outputs": [
    {
     "data": {
      "text/html": [
       "<div>\n",
       "<style scoped>\n",
       "    .dataframe tbody tr th:only-of-type {\n",
       "        vertical-align: middle;\n",
       "    }\n",
       "\n",
       "    .dataframe tbody tr th {\n",
       "        vertical-align: top;\n",
       "    }\n",
       "\n",
       "    .dataframe thead th {\n",
       "        text-align: right;\n",
       "    }\n",
       "</style>\n",
       "<table border=\"1\" class=\"dataframe\">\n",
       "  <thead>\n",
       "    <tr style=\"text-align: right;\">\n",
       "      <th></th>\n",
       "      <th>Time</th>\n",
       "      <th>V1</th>\n",
       "      <th>V2</th>\n",
       "      <th>V3</th>\n",
       "      <th>V4</th>\n",
       "      <th>V5</th>\n",
       "      <th>V6</th>\n",
       "      <th>V7</th>\n",
       "      <th>V8</th>\n",
       "      <th>V9</th>\n",
       "      <th>...</th>\n",
       "      <th>V21</th>\n",
       "      <th>V22</th>\n",
       "      <th>V23</th>\n",
       "      <th>V24</th>\n",
       "      <th>V25</th>\n",
       "      <th>V26</th>\n",
       "      <th>V27</th>\n",
       "      <th>V28</th>\n",
       "      <th>Amount</th>\n",
       "      <th>Class</th>\n",
       "    </tr>\n",
       "  </thead>\n",
       "  <tbody>\n",
       "    <tr>\n",
       "      <th>0</th>\n",
       "      <td>0.0</td>\n",
       "      <td>-1.359807</td>\n",
       "      <td>-0.072781</td>\n",
       "      <td>2.536347</td>\n",
       "      <td>1.378155</td>\n",
       "      <td>-0.338321</td>\n",
       "      <td>0.462388</td>\n",
       "      <td>0.239599</td>\n",
       "      <td>0.098698</td>\n",
       "      <td>0.363787</td>\n",
       "      <td>...</td>\n",
       "      <td>-0.018307</td>\n",
       "      <td>0.277838</td>\n",
       "      <td>-0.110474</td>\n",
       "      <td>0.066928</td>\n",
       "      <td>0.128539</td>\n",
       "      <td>-0.189115</td>\n",
       "      <td>0.133558</td>\n",
       "      <td>-0.021053</td>\n",
       "      <td>0.244964</td>\n",
       "      <td>0</td>\n",
       "    </tr>\n",
       "    <tr>\n",
       "      <th>1</th>\n",
       "      <td>0.0</td>\n",
       "      <td>1.191857</td>\n",
       "      <td>0.266151</td>\n",
       "      <td>0.166480</td>\n",
       "      <td>0.448154</td>\n",
       "      <td>0.060018</td>\n",
       "      <td>-0.082361</td>\n",
       "      <td>-0.078803</td>\n",
       "      <td>0.085102</td>\n",
       "      <td>-0.255425</td>\n",
       "      <td>...</td>\n",
       "      <td>-0.225775</td>\n",
       "      <td>-0.638672</td>\n",
       "      <td>0.101288</td>\n",
       "      <td>-0.339846</td>\n",
       "      <td>0.167170</td>\n",
       "      <td>0.125895</td>\n",
       "      <td>-0.008983</td>\n",
       "      <td>0.014724</td>\n",
       "      <td>-0.342475</td>\n",
       "      <td>0</td>\n",
       "    </tr>\n",
       "    <tr>\n",
       "      <th>2</th>\n",
       "      <td>1.0</td>\n",
       "      <td>-1.358354</td>\n",
       "      <td>-1.340163</td>\n",
       "      <td>1.773209</td>\n",
       "      <td>0.379780</td>\n",
       "      <td>-0.503198</td>\n",
       "      <td>1.800499</td>\n",
       "      <td>0.791461</td>\n",
       "      <td>0.247676</td>\n",
       "      <td>-1.514654</td>\n",
       "      <td>...</td>\n",
       "      <td>0.247998</td>\n",
       "      <td>0.771679</td>\n",
       "      <td>0.909412</td>\n",
       "      <td>-0.689281</td>\n",
       "      <td>-0.327642</td>\n",
       "      <td>-0.139097</td>\n",
       "      <td>-0.055353</td>\n",
       "      <td>-0.059752</td>\n",
       "      <td>1.160686</td>\n",
       "      <td>0</td>\n",
       "    </tr>\n",
       "    <tr>\n",
       "      <th>3</th>\n",
       "      <td>1.0</td>\n",
       "      <td>-0.966272</td>\n",
       "      <td>-0.185226</td>\n",
       "      <td>1.792993</td>\n",
       "      <td>-0.863291</td>\n",
       "      <td>-0.010309</td>\n",
       "      <td>1.247203</td>\n",
       "      <td>0.237609</td>\n",
       "      <td>0.377436</td>\n",
       "      <td>-1.387024</td>\n",
       "      <td>...</td>\n",
       "      <td>-0.108300</td>\n",
       "      <td>0.005274</td>\n",
       "      <td>-0.190321</td>\n",
       "      <td>-1.175575</td>\n",
       "      <td>0.647376</td>\n",
       "      <td>-0.221929</td>\n",
       "      <td>0.062723</td>\n",
       "      <td>0.061458</td>\n",
       "      <td>0.140534</td>\n",
       "      <td>0</td>\n",
       "    </tr>\n",
       "    <tr>\n",
       "      <th>4</th>\n",
       "      <td>2.0</td>\n",
       "      <td>-1.158233</td>\n",
       "      <td>0.877737</td>\n",
       "      <td>1.548718</td>\n",
       "      <td>0.403034</td>\n",
       "      <td>-0.407193</td>\n",
       "      <td>0.095921</td>\n",
       "      <td>0.592941</td>\n",
       "      <td>-0.270533</td>\n",
       "      <td>0.817739</td>\n",
       "      <td>...</td>\n",
       "      <td>-0.009431</td>\n",
       "      <td>0.798278</td>\n",
       "      <td>-0.137458</td>\n",
       "      <td>0.141267</td>\n",
       "      <td>-0.206010</td>\n",
       "      <td>0.502292</td>\n",
       "      <td>0.219422</td>\n",
       "      <td>0.215153</td>\n",
       "      <td>-0.073403</td>\n",
       "      <td>0</td>\n",
       "    </tr>\n",
       "  </tbody>\n",
       "</table>\n",
       "<p>5 rows × 31 columns</p>\n",
       "</div>"
      ],
      "text/plain": [
       "   Time        V1        V2        V3        V4        V5        V6        V7  \\\n",
       "0   0.0 -1.359807 -0.072781  2.536347  1.378155 -0.338321  0.462388  0.239599   \n",
       "1   0.0  1.191857  0.266151  0.166480  0.448154  0.060018 -0.082361 -0.078803   \n",
       "2   1.0 -1.358354 -1.340163  1.773209  0.379780 -0.503198  1.800499  0.791461   \n",
       "3   1.0 -0.966272 -0.185226  1.792993 -0.863291 -0.010309  1.247203  0.237609   \n",
       "4   2.0 -1.158233  0.877737  1.548718  0.403034 -0.407193  0.095921  0.592941   \n",
       "\n",
       "         V8        V9  ...       V21       V22       V23       V24       V25  \\\n",
       "0  0.098698  0.363787  ... -0.018307  0.277838 -0.110474  0.066928  0.128539   \n",
       "1  0.085102 -0.255425  ... -0.225775 -0.638672  0.101288 -0.339846  0.167170   \n",
       "2  0.247676 -1.514654  ...  0.247998  0.771679  0.909412 -0.689281 -0.327642   \n",
       "3  0.377436 -1.387024  ... -0.108300  0.005274 -0.190321 -1.175575  0.647376   \n",
       "4 -0.270533  0.817739  ... -0.009431  0.798278 -0.137458  0.141267 -0.206010   \n",
       "\n",
       "        V26       V27       V28    Amount  Class  \n",
       "0 -0.189115  0.133558 -0.021053  0.244964      0  \n",
       "1  0.125895 -0.008983  0.014724 -0.342475      0  \n",
       "2 -0.139097 -0.055353 -0.059752  1.160686      0  \n",
       "3 -0.221929  0.062723  0.061458  0.140534      0  \n",
       "4  0.502292  0.219422  0.215153 -0.073403      0  \n",
       "\n",
       "[5 rows x 31 columns]"
      ]
     },
     "execution_count": 24,
     "metadata": {},
     "output_type": "execute_result"
    }
   ],
   "source": [
    "df.head()"
   ]
  },
  {
   "cell_type": "code",
   "execution_count": 25,
   "id": "c935816c-53d5-429a-a6a4-3cdbebf10c65",
   "metadata": {},
   "outputs": [
    {
     "data": {
      "text/plain": [
       "np.int64(1081)"
      ]
     },
     "execution_count": 25,
     "metadata": {},
     "output_type": "execute_result"
    }
   ],
   "source": [
    "df.duplicated().sum()"
   ]
  },
  {
   "cell_type": "code",
   "execution_count": 26,
   "id": "cd605fd3-89d7-4a6c-9d35-e5b3bedea158",
   "metadata": {},
   "outputs": [],
   "source": [
    "df.drop_duplicates(inplace=True)"
   ]
  },
  {
   "cell_type": "code",
   "execution_count": 27,
   "id": "39957098-25db-4ae9-8716-0bb63a1b24c0",
   "metadata": {},
   "outputs": [
    {
     "data": {
      "text/plain": [
       "(283726, 31)"
      ]
     },
     "execution_count": 27,
     "metadata": {},
     "output_type": "execute_result"
    }
   ],
   "source": [
    "df.shape"
   ]
  },
  {
   "cell_type": "code",
   "execution_count": 28,
   "id": "c267d562-0af9-4473-8782-22ac7cf928c7",
   "metadata": {},
   "outputs": [
    {
     "data": {
      "text/plain": [
       "Class\n",
       "0    283253\n",
       "1       473\n",
       "Name: count, dtype: int64"
      ]
     },
     "execution_count": 28,
     "metadata": {},
     "output_type": "execute_result"
    }
   ],
   "source": [
    "df['Class'].value_counts()"
   ]
  },
  {
   "cell_type": "code",
   "execution_count": 29,
   "id": "0b7885fa-3e20-487c-9f78-69bbf034a73b",
   "metadata": {},
   "outputs": [
    {
     "data": {
      "text/plain": [
       "<Axes: xlabel='Class', ylabel='count'>"
      ]
     },
     "execution_count": 29,
     "metadata": {},
     "output_type": "execute_result"
    },
    {
     "data": {
      "image/png": "[encoded data removed]",
      "text/plain": [
       "<Figure size 800x500 with 1 Axes>"
      ]
     },
     "metadata": {},
     "output_type": "display_data"
    }
   ],
   "source": [
    "plt.figure(figsize=(8,5))\n",
    "plt.style.use('ggplot')\n",
    "sns.countplot(x='Class', data=df)"
   ]
  },
  {
   "cell_type": "code",
   "execution_count": 30,
   "id": "2074f95c-aa53-4161-bab0-0784ba3f29f9",
   "metadata": {},
   "outputs": [],
   "source": [
    "X=df.drop(['Class', 'Time','Amount'], axis=1)\n",
    "y=df['Class']"
   ]
  },
  {
   "cell_type": "code",
   "execution_count": 31,
   "id": "0a898f5c-24b4-4a48-b756-23d7f4659818",
   "metadata": {},
   "outputs": [],
   "source": [
    "from sklearn.model_selection import train_test_split"
   ]
  },
  {
   "cell_type": "code",
   "execution_count": 32,
   "id": "0e00d887-fbb3-4ddb-9455-604cf26d3dbb",
   "metadata": {},
   "outputs": [],
   "source": [
    "X_train, X_test, y_train, y_test = train_test_split(X, y, test_size=0.2, random_state=42)"
   ]
  },
  {
   "cell_type": "code",
   "execution_count": 33,
   "id": "21785609-2de7-4639-9a7b-daa78f70199c",
   "metadata": {},
   "outputs": [],
   "source": [
    "from sklearn.linear_model import LogisticRegression\n",
    "from sklearn.ensemble import RandomForestClassifier\n",
    "from sklearn.tree import DecisionTreeClassifier\n",
    "from sklearn.metrics import accuracy_score, f1_score, precision_score, recall_score"
   ]
  },
  {
   "cell_type": "code",
   "execution_count": 34,
   "id": "d6b5adc7-63a8-493e-9843-77588d18d8cb",
   "metadata": {},
   "outputs": [
    {
     "name": "stdout",
     "output_type": "stream",
     "text": [
      "\n",
      "--- Logistic Regression ----\n",
      "Accuracy Score: 0.9991717477883904\n",
      "Precision Score: 0.8909090909090909\n",
      "Recall Score: 0.5444444444444444\n",
      "f1 Score: 0.6758620689655173\n",
      "\n",
      "--- Decision Tree Classifier ----\n",
      "Accuracy Score: 0.999066013463504\n",
      "Precision Score: 0.6947368421052632\n",
      "Recall Score: 0.7333333333333333\n",
      "f1 Score: 0.7135135135135136\n"
     ]
    }
   ],
   "source": [
    "classifier = {\n",
    "    'Logistic Regression': LogisticRegression(),\n",
    "    'Decision Tree Classifier': DecisionTreeClassifier()\n",
    "}\n",
    "for name, clf in classifier.items():\n",
    "  print(f\"\\n--- {name} ----\")\n",
    "  clf.fit(X_train, y_train)\n",
    "  y_pred=clf.predict(X_test)\n",
    "  print(f\"Accuracy Score: {accuracy_score(y_test, y_pred)}\")\n",
    "  print(f\"Precision Score: {precision_score(y_test, y_pred)}\")\n",
    "  print(f\"Recall Score: {recall_score(y_test, y_pred)}\")\n",
    "  print(f\"f1 Score: {f1_score(y_test, y_pred)}\")"
   ]
  },
  {
   "cell_type": "code",
   "execution_count": 35,
   "id": "407d6cd3-3d07-4f26-9f04-396626e69c52",
   "metadata": {},
   "outputs": [],
   "source": [
    "# Undersampling"
   ]
  },
  {
   "cell_type": "code",
   "execution_count": 36,
   "id": "86c76fbd-290c-4f46-99ea-10d6ec6160b9",
   "metadata": {},
   "outputs": [],
   "source": [
    "Valid = df[df['Class']==0]\n",
    "Fraud = df[df['Class']==1]"
   ]
  },
  {
   "cell_type": "code",
   "execution_count": 37,
   "id": "5a31ba8e-215e-448b-be80-f39ad19ad62c",
   "metadata": {},
   "outputs": [
    {
     "data": {
      "text/plain": [
       "(283253, 31)"
      ]
     },
     "execution_count": 37,
     "metadata": {},
     "output_type": "execute_result"
    }
   ],
   "source": [
    "Valid.shape"
   ]
  },
  {
   "cell_type": "code",
   "execution_count": 38,
   "id": "c2cfaa83-d160-4a4f-8f41-9c0d85811596",
   "metadata": {},
   "outputs": [
    {
     "data": {
      "text/plain": [
       "(473, 31)"
      ]
     },
     "execution_count": 38,
     "metadata": {},
     "output_type": "execute_result"
    }
   ],
   "source": [
    "Fraud.shape"
   ]
  },
  {
   "cell_type": "code",
   "execution_count": 39,
   "id": "3ab9bdbf-5f6e-4eb5-b44a-a5009f5d5e52",
   "metadata": {},
   "outputs": [],
   "source": [
    "Valid_sample = Valid.sample(n=473)"
   ]
  },
  {
   "cell_type": "code",
   "execution_count": 40,
   "id": "2748bff9-d7a7-4aba-8728-d3ac89d95d18",
   "metadata": {},
   "outputs": [
    {
     "data": {
      "text/plain": [
       "(473, 31)"
      ]
     },
     "execution_count": 40,
     "metadata": {},
     "output_type": "execute_result"
    }
   ],
   "source": [
    "Valid_sample.shape"
   ]
  },
  {
   "cell_type": "code",
   "execution_count": 41,
   "id": "8f1ee176-548b-4f6a-91c8-22cb4c0d3d1c",
   "metadata": {},
   "outputs": [],
   "source": [
    "New_data = pd.concat([Valid_sample, Fraud], ignore_index=True)"
   ]
  },
  {
   "cell_type": "code",
   "execution_count": 42,
   "id": "58f2d605-8b51-4a3a-a640-a9d8e08a5b82",
   "metadata": {},
   "outputs": [
    {
     "data": {
      "text/html": [
       "<div>\n",
       "<style scoped>\n",
       "    .dataframe tbody tr th:only-of-type {\n",
       "        vertical-align: middle;\n",
       "    }\n",
       "\n",
       "    .dataframe tbody tr th {\n",
       "        vertical-align: top;\n",
       "    }\n",
       "\n",
       "    .dataframe thead th {\n",
       "        text-align: right;\n",
       "    }\n",
       "</style>\n",
       "<table border=\"1\" class=\"dataframe\">\n",
       "  <thead>\n",
       "    <tr style=\"text-align: right;\">\n",
       "      <th></th>\n",
       "      <th>Time</th>\n",
       "      <th>V1</th>\n",
       "      <th>V2</th>\n",
       "      <th>V3</th>\n",
       "      <th>V4</th>\n",
       "      <th>V5</th>\n",
       "      <th>V6</th>\n",
       "      <th>V7</th>\n",
       "      <th>V8</th>\n",
       "      <th>V9</th>\n",
       "      <th>...</th>\n",
       "      <th>V21</th>\n",
       "      <th>V22</th>\n",
       "      <th>V23</th>\n",
       "      <th>V24</th>\n",
       "      <th>V25</th>\n",
       "      <th>V26</th>\n",
       "      <th>V27</th>\n",
       "      <th>V28</th>\n",
       "      <th>Amount</th>\n",
       "      <th>Class</th>\n",
       "    </tr>\n",
       "  </thead>\n",
       "  <tbody>\n",
       "    <tr>\n",
       "      <th>0</th>\n",
       "      <td>160691.0</td>\n",
       "      <td>-0.554245</td>\n",
       "      <td>0.729329</td>\n",
       "      <td>0.948531</td>\n",
       "      <td>-0.383419</td>\n",
       "      <td>-0.192629</td>\n",
       "      <td>-0.004870</td>\n",
       "      <td>-0.102578</td>\n",
       "      <td>0.466519</td>\n",
       "      <td>0.113783</td>\n",
       "      <td>...</td>\n",
       "      <td>0.319093</td>\n",
       "      <td>0.975551</td>\n",
       "      <td>-0.256731</td>\n",
       "      <td>-0.565464</td>\n",
       "      <td>-0.330925</td>\n",
       "      <td>0.698894</td>\n",
       "      <td>0.026431</td>\n",
       "      <td>0.092905</td>\n",
       "      <td>-0.293658</td>\n",
       "      <td>0</td>\n",
       "    </tr>\n",
       "    <tr>\n",
       "      <th>1</th>\n",
       "      <td>159625.0</td>\n",
       "      <td>1.924263</td>\n",
       "      <td>-0.496995</td>\n",
       "      <td>-0.431058</td>\n",
       "      <td>0.342293</td>\n",
       "      <td>-0.729333</td>\n",
       "      <td>-0.725897</td>\n",
       "      <td>-0.397486</td>\n",
       "      <td>-0.101748</td>\n",
       "      <td>1.073562</td>\n",
       "      <td>...</td>\n",
       "      <td>-0.247314</td>\n",
       "      <td>-0.726784</td>\n",
       "      <td>0.386483</td>\n",
       "      <td>-0.127560</td>\n",
       "      <td>-0.654775</td>\n",
       "      <td>0.235593</td>\n",
       "      <td>-0.050207</td>\n",
       "      <td>-0.037437</td>\n",
       "      <td>-0.133335</td>\n",
       "      <td>0</td>\n",
       "    </tr>\n",
       "    <tr>\n",
       "      <th>2</th>\n",
       "      <td>96257.0</td>\n",
       "      <td>1.586854</td>\n",
       "      <td>-0.872876</td>\n",
       "      <td>-0.506524</td>\n",
       "      <td>0.770682</td>\n",
       "      <td>-0.688613</td>\n",
       "      <td>-0.445736</td>\n",
       "      <td>-0.194175</td>\n",
       "      <td>-0.185879</td>\n",
       "      <td>2.316826</td>\n",
       "      <td>...</td>\n",
       "      <td>-0.436337</td>\n",
       "      <td>-1.355789</td>\n",
       "      <td>0.389737</td>\n",
       "      <td>1.075880</td>\n",
       "      <td>-0.757665</td>\n",
       "      <td>0.025122</td>\n",
       "      <td>-0.113463</td>\n",
       "      <td>-0.005766</td>\n",
       "      <td>0.514155</td>\n",
       "      <td>0</td>\n",
       "    </tr>\n",
       "    <tr>\n",
       "      <th>3</th>\n",
       "      <td>28406.0</td>\n",
       "      <td>0.119907</td>\n",
       "      <td>1.283094</td>\n",
       "      <td>-0.024777</td>\n",
       "      <td>0.648763</td>\n",
       "      <td>0.903149</td>\n",
       "      <td>-0.641588</td>\n",
       "      <td>1.218405</td>\n",
       "      <td>-0.452429</td>\n",
       "      <td>-0.207539</td>\n",
       "      <td>...</td>\n",
       "      <td>0.002707</td>\n",
       "      <td>0.501828</td>\n",
       "      <td>-0.130494</td>\n",
       "      <td>-0.442254</td>\n",
       "      <td>-0.559691</td>\n",
       "      <td>-0.388533</td>\n",
       "      <td>0.384422</td>\n",
       "      <td>0.059479</td>\n",
       "      <td>-0.349671</td>\n",
       "      <td>0</td>\n",
       "    </tr>\n",
       "    <tr>\n",
       "      <th>4</th>\n",
       "      <td>170425.0</td>\n",
       "      <td>2.085175</td>\n",
       "      <td>0.393051</td>\n",
       "      <td>-4.508201</td>\n",
       "      <td>-0.311771</td>\n",
       "      <td>3.510117</td>\n",
       "      <td>2.453299</td>\n",
       "      <td>0.220469</td>\n",
       "      <td>0.543377</td>\n",
       "      <td>-0.100434</td>\n",
       "      <td>...</td>\n",
       "      <td>-0.067217</td>\n",
       "      <td>-0.072642</td>\n",
       "      <td>-0.036584</td>\n",
       "      <td>0.529693</td>\n",
       "      <td>0.414685</td>\n",
       "      <td>0.735870</td>\n",
       "      <td>-0.058233</td>\n",
       "      <td>-0.026658</td>\n",
       "      <td>-0.350191</td>\n",
       "      <td>0</td>\n",
       "    </tr>\n",
       "  </tbody>\n",
       "</table>\n",
       "<p>5 rows × 31 columns</p>\n",
       "</div>"
      ],
      "text/plain": [
       "       Time        V1        V2        V3        V4        V5        V6  \\\n",
       "0  160691.0 -0.554245  0.729329  0.948531 -0.383419 -0.192629 -0.004870   \n",
       "1  159625.0  1.924263 -0.496995 -0.431058  0.342293 -0.729333 -0.725897   \n",
       "2   96257.0  1.586854 -0.872876 -0.506524  0.770682 -0.688613 -0.445736   \n",
       "3   28406.0  0.119907  1.283094 -0.024777  0.648763  0.903149 -0.641588   \n",
       "4  170425.0  2.085175  0.393051 -4.508201 -0.311771  3.510117  2.453299   \n",
       "\n",
       "         V7        V8        V9  ...       V21       V22       V23       V24  \\\n",
       "0 -0.102578  0.466519  0.113783  ...  0.319093  0.975551 -0.256731 -0.565464   \n",
       "1 -0.397486 -0.101748  1.073562  ... -0.247314 -0.726784  0.386483 -0.127560   \n",
       "2 -0.194175 -0.185879  2.316826  ... -0.436337 -1.355789  0.389737  1.075880   \n",
       "3  1.218405 -0.452429 -0.207539  ...  0.002707  0.501828 -0.130494 -0.442254   \n",
       "4  0.220469  0.543377 -0.100434  ... -0.067217 -0.072642 -0.036584  0.529693   \n",
       "\n",
       "        V25       V26       V27       V28    Amount  Class  \n",
       "0 -0.330925  0.698894  0.026431  0.092905 -0.293658      0  \n",
       "1 -0.654775  0.235593 -0.050207 -0.037437 -0.133335      0  \n",
       "2 -0.757665  0.025122 -0.113463 -0.005766  0.514155      0  \n",
       "3 -0.559691 -0.388533  0.384422  0.059479 -0.349671      0  \n",
       "4  0.414685  0.735870 -0.058233 -0.026658 -0.350191      0  \n",
       "\n",
       "[5 rows x 31 columns]"
      ]
     },
     "execution_count": 42,
     "metadata": {},
     "output_type": "execute_result"
    }
   ],
   "source": [
    "New_data.head()"
   ]
  },
  {
   "cell_type": "code",
   "execution_count": 43,
   "id": "fe85889d-49dc-48c6-93b7-3be34a85155d",
   "metadata": {},
   "outputs": [
    {
     "data": {
      "text/plain": [
       "Class\n",
       "0    473\n",
       "1    473\n",
       "Name: count, dtype: int64"
      ]
     },
     "execution_count": 43,
     "metadata": {},
     "output_type": "execute_result"
    }
   ],
   "source": [
    "New_data['Class'].value_counts()"
   ]
  },
  {
   "cell_type": "code",
   "execution_count": 44,
   "id": "d6d51644-778c-4fb2-a519-b9e81d5b5ec0",
   "metadata": {},
   "outputs": [],
   "source": [
    "X = New_data.drop(['Class', 'Time','Amount'], axis=1)\n",
    "y = New_data['Class']"
   ]
  },
  {
   "cell_type": "code",
   "execution_count": 45,
   "id": "c5b67703-242d-4bde-83b5-59226c6cac1c",
   "metadata": {},
   "outputs": [],
   "source": [
    "X_train, X_test, y_train, y_test = train_test_split(X, y, test_size=0.2, random_state=42)"
   ]
  },
  {
   "cell_type": "code",
   "execution_count": 46,
   "id": "9845619d-a3e1-4418-890c-2ef3ef380ebe",
   "metadata": {},
   "outputs": [
    {
     "name": "stdout",
     "output_type": "stream",
     "text": [
      "\n",
      "--- Logistic Regression ----\n",
      "Accuracy Score: 0.9210526315789473\n",
      "Precision Score: 0.9393939393939394\n",
      "Recall Score: 0.9117647058823529\n",
      "f1 Score: 0.9253731343283582\n",
      "\n",
      "--- Decision Tree Classifier ----\n",
      "Accuracy Score: 0.9157894736842105\n",
      "Precision Score: 0.9215686274509803\n",
      "Recall Score: 0.9215686274509803\n",
      "f1 Score: 0.9215686274509803\n"
     ]
    }
   ],
   "source": [
    "classifier = {\n",
    "    'Logistic Regression': LogisticRegression(),\n",
    "    'Decision Tree Classifier': DecisionTreeClassifier()\n",
    "}\n",
    "for name, clf in classifier.items():\n",
    "  print(f\"\\n--- {name} ----\")\n",
    "  clf.fit(X_train, y_train)\n",
    "  y_pred=clf.predict(X_test)\n",
    "  print(f\"Accuracy Score: {accuracy_score(y_test, y_pred)}\")\n",
    "  print(f\"Precision Score: {precision_score(y_test, y_pred)}\")\n",
    "  print(f\"Recall Score: {recall_score(y_test, y_pred)}\")\n",
    "  print(f\"f1 Score: {f1_score(y_test, y_pred)}\")"
   ]
  },
  {
   "cell_type": "code",
   "execution_count": 47,
   "id": "66591f1b-ef65-47cc-9ad6-11bfaea48146",
   "metadata": {},
   "outputs": [
    {
     "data": {
      "text/html": [
       "<div>\n",
       "<style scoped>\n",
       "    .dataframe tbody tr th:only-of-type {\n",
       "        vertical-align: middle;\n",
       "    }\n",
       "\n",
       "    .dataframe tbody tr th {\n",
       "        vertical-align: top;\n",
       "    }\n",
       "\n",
       "    .dataframe thead th {\n",
       "        text-align: right;\n",
       "    }\n",
       "</style>\n",
       "<table border=\"1\" class=\"dataframe\">\n",
       "  <thead>\n",
       "    <tr style=\"text-align: right;\">\n",
       "      <th></th>\n",
       "      <th>V1</th>\n",
       "      <th>V2</th>\n",
       "      <th>V3</th>\n",
       "      <th>V4</th>\n",
       "      <th>V5</th>\n",
       "      <th>V6</th>\n",
       "      <th>V7</th>\n",
       "      <th>V8</th>\n",
       "      <th>V9</th>\n",
       "      <th>V10</th>\n",
       "      <th>...</th>\n",
       "      <th>V19</th>\n",
       "      <th>V20</th>\n",
       "      <th>V21</th>\n",
       "      <th>V22</th>\n",
       "      <th>V23</th>\n",
       "      <th>V24</th>\n",
       "      <th>V25</th>\n",
       "      <th>V26</th>\n",
       "      <th>V27</th>\n",
       "      <th>V28</th>\n",
       "    </tr>\n",
       "  </thead>\n",
       "  <tbody>\n",
       "    <tr>\n",
       "      <th>327</th>\n",
       "      <td>0.926094</td>\n",
       "      <td>-0.864716</td>\n",
       "      <td>1.051325</td>\n",
       "      <td>0.310737</td>\n",
       "      <td>-1.537351</td>\n",
       "      <td>-0.310139</td>\n",
       "      <td>-0.760816</td>\n",
       "      <td>0.243552</td>\n",
       "      <td>0.943070</td>\n",
       "      <td>-0.088131</td>\n",
       "      <td>...</td>\n",
       "      <td>0.129822</td>\n",
       "      <td>0.059374</td>\n",
       "      <td>0.186842</td>\n",
       "      <td>0.273582</td>\n",
       "      <td>-0.098304</td>\n",
       "      <td>0.588285</td>\n",
       "      <td>0.038304</td>\n",
       "      <td>1.072128</td>\n",
       "      <td>-0.076436</td>\n",
       "      <td>0.024175</td>\n",
       "    </tr>\n",
       "    <tr>\n",
       "      <th>30</th>\n",
       "      <td>-3.045428</td>\n",
       "      <td>3.329075</td>\n",
       "      <td>-2.899841</td>\n",
       "      <td>-0.624399</td>\n",
       "      <td>-1.284422</td>\n",
       "      <td>-1.065496</td>\n",
       "      <td>-1.243502</td>\n",
       "      <td>2.488583</td>\n",
       "      <td>-0.369830</td>\n",
       "      <td>0.071856</td>\n",
       "      <td>...</td>\n",
       "      <td>0.196707</td>\n",
       "      <td>0.004357</td>\n",
       "      <td>0.516325</td>\n",
       "      <td>1.273724</td>\n",
       "      <td>0.199238</td>\n",
       "      <td>-0.370769</td>\n",
       "      <td>-0.377954</td>\n",
       "      <td>-0.178118</td>\n",
       "      <td>0.284476</td>\n",
       "      <td>0.235663</td>\n",
       "    </tr>\n",
       "    <tr>\n",
       "      <th>820</th>\n",
       "      <td>1.889618</td>\n",
       "      <td>1.073099</td>\n",
       "      <td>-1.678018</td>\n",
       "      <td>4.173268</td>\n",
       "      <td>1.015516</td>\n",
       "      <td>-0.009389</td>\n",
       "      <td>-0.079706</td>\n",
       "      <td>0.064071</td>\n",
       "      <td>-0.714517</td>\n",
       "      <td>0.042228</td>\n",
       "      <td>...</td>\n",
       "      <td>-2.335185</td>\n",
       "      <td>-0.153570</td>\n",
       "      <td>0.203728</td>\n",
       "      <td>0.733796</td>\n",
       "      <td>-0.036560</td>\n",
       "      <td>0.334306</td>\n",
       "      <td>0.147171</td>\n",
       "      <td>0.279556</td>\n",
       "      <td>0.031669</td>\n",
       "      <td>0.035883</td>\n",
       "    </tr>\n",
       "    <tr>\n",
       "      <th>404</th>\n",
       "      <td>1.990047</td>\n",
       "      <td>-0.280491</td>\n",
       "      <td>-2.996731</td>\n",
       "      <td>-0.378854</td>\n",
       "      <td>2.544892</td>\n",
       "      <td>3.350728</td>\n",
       "      <td>-0.521450</td>\n",
       "      <td>0.830050</td>\n",
       "      <td>0.898938</td>\n",
       "      <td>-0.641154</td>\n",
       "      <td>...</td>\n",
       "      <td>-0.145461</td>\n",
       "      <td>-0.131593</td>\n",
       "      <td>0.029100</td>\n",
       "      <td>0.288574</td>\n",
       "      <td>0.030552</td>\n",
       "      <td>0.639129</td>\n",
       "      <td>0.306454</td>\n",
       "      <td>-0.123266</td>\n",
       "      <td>0.031524</td>\n",
       "      <td>-0.034965</td>\n",
       "    </tr>\n",
       "    <tr>\n",
       "      <th>76</th>\n",
       "      <td>-0.656957</td>\n",
       "      <td>1.280307</td>\n",
       "      <td>0.768057</td>\n",
       "      <td>-0.352216</td>\n",
       "      <td>1.054758</td>\n",
       "      <td>-1.029051</td>\n",
       "      <td>1.494837</td>\n",
       "      <td>-0.567664</td>\n",
       "      <td>-0.548759</td>\n",
       "      <td>-1.094189</td>\n",
       "      <td>...</td>\n",
       "      <td>-0.000188</td>\n",
       "      <td>0.118944</td>\n",
       "      <td>0.173006</td>\n",
       "      <td>0.756207</td>\n",
       "      <td>-0.706639</td>\n",
       "      <td>-0.044373</td>\n",
       "      <td>0.963122</td>\n",
       "      <td>0.063258</td>\n",
       "      <td>-0.233554</td>\n",
       "      <td>-0.151010</td>\n",
       "    </tr>\n",
       "  </tbody>\n",
       "</table>\n",
       "<p>5 rows × 28 columns</p>\n",
       "</div>"
      ],
      "text/plain": [
       "           V1        V2        V3        V4        V5        V6        V7  \\\n",
       "327  0.926094 -0.864716  1.051325  0.310737 -1.537351 -0.310139 -0.760816   \n",
       "30  -3.045428  3.329075 -2.899841 -0.624399 -1.284422 -1.065496 -1.243502   \n",
       "820  1.889618  1.073099 -1.678018  4.173268  1.015516 -0.009389 -0.079706   \n",
       "404  1.990047 -0.280491 -2.996731 -0.378854  2.544892  3.350728 -0.521450   \n",
       "76  -0.656957  1.280307  0.768057 -0.352216  1.054758 -1.029051  1.494837   \n",
       "\n",
       "           V8        V9       V10  ...       V19       V20       V21  \\\n",
       "327  0.243552  0.943070 -0.088131  ...  0.129822  0.059374  0.186842   \n",
       "30   2.488583 -0.369830  0.071856  ...  0.196707  0.004357  0.516325   \n",
       "820  0.064071 -0.714517  0.042228  ... -2.335185 -0.153570  0.203728   \n",
       "404  0.830050  0.898938 -0.641154  ... -0.145461 -0.131593  0.029100   \n",
       "76  -0.567664 -0.548759 -1.094189  ... -0.000188  0.118944  0.173006   \n",
       "\n",
       "          V22       V23       V24       V25       V26       V27       V28  \n",
       "327  0.273582 -0.098304  0.588285  0.038304  1.072128 -0.076436  0.024175  \n",
       "30   1.273724  0.199238 -0.370769 -0.377954 -0.178118  0.284476  0.235663  \n",
       "820  0.733796 -0.036560  0.334306  0.147171  0.279556  0.031669  0.035883  \n",
       "404  0.288574  0.030552  0.639129  0.306454 -0.123266  0.031524 -0.034965  \n",
       "76   0.756207 -0.706639 -0.044373  0.963122  0.063258 -0.233554 -0.151010  \n",
       "\n",
       "[5 rows x 28 columns]"
      ]
     },
     "execution_count": 47,
     "metadata": {},
     "output_type": "execute_result"
    }
   ],
   "source": [
    "X_test.head()"
   ]
  },
  {
   "cell_type": "code",
   "execution_count": 48,
   "id": "1c320f78-01cb-4674-9662-bd06d023c1b1",
   "metadata": {},
   "outputs": [],
   "source": [
    "# OverSampling"
   ]
  },
  {
   "cell_type": "code",
   "execution_count": 49,
   "id": "0d606988-d2f1-42de-b150-5e756da9f5e3",
   "metadata": {},
   "outputs": [],
   "source": [
    "X=df.drop(['Class', 'Time','Amount'], axis=1)\n",
    "y=df['Class']"
   ]
  },
  {
   "cell_type": "code",
   "execution_count": 50,
   "id": "7602e163-5596-42e3-bd3f-c84b54deb82e",
   "metadata": {},
   "outputs": [
    {
     "data": {
      "text/plain": [
       "(283726, 28)"
      ]
     },
     "execution_count": 50,
     "metadata": {},
     "output_type": "execute_result"
    }
   ],
   "source": [
    "X.shape"
   ]
  },
  {
   "cell_type": "code",
   "execution_count": 51,
   "id": "5b61cabc-008d-4e95-98a5-0c4ee5d026e8",
   "metadata": {},
   "outputs": [
    {
     "data": {
      "text/plain": [
       "(283726,)"
      ]
     },
     "execution_count": 51,
     "metadata": {},
     "output_type": "execute_result"
    }
   ],
   "source": [
    "y.shape"
   ]
  },
  {
   "cell_type": "code",
   "execution_count": 54,
   "id": "56d31be3-3aee-4306-a461-732708a2eda9",
   "metadata": {},
   "outputs": [],
   "source": [
    "from imblearn.over_sampling import SMOTE"
   ]
  },
  {
   "cell_type": "code",
   "execution_count": 55,
   "id": "08c48a4d-8187-467b-b54c-63b61f4b5ffc",
   "metadata": {},
   "outputs": [],
   "source": [
    "X_res, y_res = SMOTE().fit_resample(X, y)"
   ]
  },
  {
   "cell_type": "code",
   "execution_count": 56,
   "id": "7f32f578-88f9-4949-9310-bf61582573c3",
   "metadata": {},
   "outputs": [
    {
     "data": {
      "text/plain": [
       "Class\n",
       "0    283253\n",
       "1    283253\n",
       "Name: count, dtype: int64"
      ]
     },
     "execution_count": 56,
     "metadata": {},
     "output_type": "execute_result"
    }
   ],
   "source": [
    "y_res.value_counts()"
   ]
  },
  {
   "cell_type": "code",
   "execution_count": 57,
   "id": "29f66418-f175-4863-9287-7bdfe99c0793",
   "metadata": {},
   "outputs": [],
   "source": [
    "X_train, X_test, y_train, y_test = train_test_split(X_res, y_res, test_size=0.2, random_state=42)"
   ]
  },
  {
   "cell_type": "code",
   "execution_count": 58,
   "id": "de01d445-39aa-4640-98af-60eb9010db21",
   "metadata": {},
   "outputs": [],
   "source": [
    "# Evaluate Model Performance"
   ]
  },
  {
   "cell_type": "code",
   "execution_count": 59,
   "id": "1d93da5c-2009-4a74-8743-71463f8a8153",
   "metadata": {},
   "outputs": [
    {
     "name": "stdout",
     "output_type": "stream",
     "text": [
      "\n",
      "--- Logistic Regression ----\n",
      "Accuracy Score: 0.942498808494113\n",
      "Precision Score: 0.9724371010138941\n",
      "Recall Score: 0.9112053343654885\n",
      "f1 Score: 0.9408259838872287\n",
      "\n",
      "--- Decision Tree Classifier ----\n",
      "Accuracy Score: 0.9979876789465323\n",
      "Precision Score: 0.9971546500395188\n",
      "Recall Score: 0.9988388254543535\n",
      "f1 Score: 0.997996027211841\n"
     ]
    }
   ],
   "source": [
    "classifier = {\n",
    "    'Logistic Regression': LogisticRegression(),\n",
    "    'Decision Tree Classifier': DecisionTreeClassifier()\n",
    "}\n",
    "for name, clf in classifier.items():\n",
    "  print(f\"\\n--- {name} ----\")\n",
    "  clf.fit(X_train, y_train)\n",
    "  y_pred=clf.predict(X_test)\n",
    "  print(f\"Accuracy Score: {accuracy_score(y_test, y_pred)}\")\n",
    "  print(f\"Precision Score: {precision_score(y_test, y_pred)}\")\n",
    "  print(f\"Recall Score: {recall_score(y_test, y_pred)}\")\n",
    "  print(f\"f1 Score: {f1_score(y_test, y_pred)}\")"
   ]
  },
  {
   "cell_type": "code",
   "execution_count": 62,
   "id": "370b7639-908c-4d69-8dce-e13c1fec37fe",
   "metadata": {},
   "outputs": [
    {
     "data": {
      "text/html": [
       "<style>#sk-container-id-2 {\n",
       "  /* Definition of color scheme common for light and dark mode */\n",
       "  --sklearn-color-text: #000;\n",
       "  --sklearn-color-text-muted: #666;\n",
       "  --sklearn-color-line: gray;\n",
       "  /* Definition of color scheme for unfitted estimators */\n",
       "  --sklearn-color-unfitted-level-0: #fff5e6;\n",
       "  --sklearn-color-unfitted-level-1: #f6e4d2;\n",
       "  --sklearn-color-unfitted-level-2: #ffe0b3;\n",
       "  --sklearn-color-unfitted-level-3: chocolate;\n",
       "  /* Definition of color scheme for fitted estimators */\n",
       "  --sklearn-color-fitted-level-0: #f0f8ff;\n",
       "  --sklearn-color-fitted-level-1: #d4ebff;\n",
       "  --sklearn-color-fitted-level-2: #b3dbfd;\n",
       "  --sklearn-color-fitted-level-3: cornflowerblue;\n",
       "\n",
       "  /* Specific color for light theme */\n",
       "  --sklearn-color-text-on-default-background: var(--sg-text-color, var(--theme-code-foreground, var(--jp-content-font-color1, black)));\n",
       "  --sklearn-color-background: var(--sg-background-color, var(--theme-background, var(--jp-layout-color0, white)));\n",
       "  --sklearn-color-border-box: var(--sg-text-color, var(--theme-code-foreground, var(--jp-content-font-color1, black)));\n",
       "  --sklearn-color-icon: #696969;\n",
       "\n",
       "  @media (prefers-color-scheme: dark) {\n",
       "    /* Redefinition of color scheme for dark theme */\n",
       "    --sklearn-color-text-on-default-background: var(--sg-text-color, var(--theme-code-foreground, var(--jp-content-font-color1, white)));\n",
       "    --sklearn-color-background: var(--sg-background-color, var(--theme-background, var(--jp-layout-color0, #111)));\n",
       "    --sklearn-color-border-box: var(--sg-text-color, var(--theme-code-foreground, var(--jp-content-font-color1, white)));\n",
       "    --sklearn-color-icon: #878787;\n",
       "  }\n",
       "}\n",
       "\n",
       "#sk-container-id-2 {\n",
       "  color: var(--sklearn-color-text);\n",
       "}\n",
       "\n",
       "#sk-container-id-2 pre {\n",
       "  padding: 0;\n",
       "}\n",
       "\n",
       "#sk-container-id-2 input.sk-hidden--visually {\n",
       "  border: 0;\n",
       "  clip: rect(1px 1px 1px 1px);\n",
       "  clip: rect(1px, 1px, 1px, 1px);\n",
       "  height: 1px;\n",
       "  margin: -1px;\n",
       "  overflow: hidden;\n",
       "  padding: 0;\n",
       "  position: absolute;\n",
       "  width: 1px;\n",
       "}\n",
       "\n",
       "#sk-container-id-2 div.sk-dashed-wrapped {\n",
       "  border: 1px dashed var(--sklearn-color-line);\n",
       "  margin: 0 0.4em 0.5em 0.4em;\n",
       "  box-sizing: border-box;\n",
       "  padding-bottom: 0.4em;\n",
       "  background-color: var(--sklearn-color-background);\n",
       "}\n",
       "\n",
       "#sk-container-id-2 div.sk-container {\n",
       "  /* jupyter's `normalize.less` sets `[hidden] { display: none; }`\n",
       "     but bootstrap.min.css set `[hidden] { display: none !important; }`\n",
       "     so we also need the `!important` here to be able to override the\n",
       "     default hidden behavior on the sphinx rendered scikit-learn.org.\n",
       "     See: https://github.com/scikit-learn/scikit-learn/issues/21755 */\n",
       "  display: inline-block !important;\n",
       "  position: relative;\n",
       "}\n",
       "\n",
       "#sk-container-id-2 div.sk-text-repr-fallback {\n",
       "  display: none;\n",
       "}\n",
       "\n",
       "div.sk-parallel-item,\n",
       "div.sk-serial,\n",
       "div.sk-item {\n",
       "  /* draw centered vertical line to link estimators */\n",
       "  background-image: linear-gradient(var(--sklearn-color-text-on-default-background), var(--sklearn-color-text-on-default-background));\n",
       "  background-size: 2px 100%;\n",
       "  background-repeat: no-repeat;\n",
       "  background-position: center center;\n",
       "}\n",
       "\n",
       "/* Parallel-specific style estimator block */\n",
       "\n",
       "#sk-container-id-2 div.sk-parallel-item::after {\n",
       "  content: \"\";\n",
       "  width: 100%;\n",
       "  border-bottom: 2px solid var(--sklearn-color-text-on-default-background);\n",
       "  flex-grow: 1;\n",
       "}\n",
       "\n",
       "#sk-container-id-2 div.sk-parallel {\n",
       "  display: flex;\n",
       "  align-items: stretch;\n",
       "  justify-content: center;\n",
       "  background-color: var(--sklearn-color-background);\n",
       "  position: relative;\n",
       "}\n",
       "\n",
       "#sk-container-id-2 div.sk-parallel-item {\n",
       "  display: flex;\n",
       "  flex-direction: column;\n",
       "}\n",
       "\n",
       "#sk-container-id-2 div.sk-parallel-item:first-child::after {\n",
       "  align-self: flex-end;\n",
       "  width: 50%;\n",
       "}\n",
       "\n",
       "#sk-container-id-2 div.sk-parallel-item:last-child::after {\n",
       "  align-self: flex-start;\n",
       "  width: 50%;\n",
       "}\n",
       "\n",
       "#sk-container-id-2 div.sk-parallel-item:only-child::after {\n",
       "  width: 0;\n",
       "}\n",
       "\n",
       "/* Serial-specific style estimator block */\n",
       "\n",
       "#sk-container-id-2 div.sk-serial {\n",
       "  display: flex;\n",
       "  flex-direction: column;\n",
       "  align-items: center;\n",
       "  background-color: var(--sklearn-color-background);\n",
       "  padding-right: 1em;\n",
       "  padding-left: 1em;\n",
       "}\n",
       "\n",
       "\n",
       "/* Toggleable style: style used for estimator/Pipeline/ColumnTransformer box that is\n",
       "clickable and can be expanded/collapsed.\n",
       "- Pipeline and ColumnTransformer use this feature and define the default style\n",
       "- Estimators will overwrite some part of the style using the `sk-estimator` class\n",
       "*/\n",
       "\n",
       "/* Pipeline and ColumnTransformer style (default) */\n",
       "\n",
       "#sk-container-id-2 div.sk-toggleable {\n",
       "  /* Default theme specific background. It is overwritten whether we have a\n",
       "  specific estimator or a Pipeline/ColumnTransformer */\n",
       "  background-color: var(--sklearn-color-background);\n",
       "}\n",
       "\n",
       "/* Toggleable label */\n",
       "#sk-container-id-2 label.sk-toggleable__label {\n",
       "  cursor: pointer;\n",
       "  display: flex;\n",
       "  width: 100%;\n",
       "  margin-bottom: 0;\n",
       "  padding: 0.5em;\n",
       "  box-sizing: border-box;\n",
       "  text-align: center;\n",
       "  align-items: start;\n",
       "  justify-content: space-between;\n",
       "  gap: 0.5em;\n",
       "}\n",
       "\n",
       "#sk-container-id-2 label.sk-toggleable__label .caption {\n",
       "  font-size: 0.6rem;\n",
       "  font-weight: lighter;\n",
       "  color: var(--sklearn-color-text-muted);\n",
       "}\n",
       "\n",
       "#sk-container-id-2 label.sk-toggleable__label-arrow:before {\n",
       "  /* Arrow on the left of the label */\n",
       "  content: \"▸\";\n",
       "  float: left;\n",
       "  margin-right: 0.25em;\n",
       "  color: var(--sklearn-color-icon);\n",
       "}\n",
       "\n",
       "#sk-container-id-2 label.sk-toggleable__label-arrow:hover:before {\n",
       "  color: var(--sklearn-color-text);\n",
       "}\n",
       "\n",
       "/* Toggleable content - dropdown */\n",
       "\n",
       "#sk-container-id-2 div.sk-toggleable__content {\n",
       "  max-height: 0;\n",
       "  max-width: 0;\n",
       "  overflow: hidden;\n",
       "  text-align: left;\n",
       "  /* unfitted */\n",
       "  background-color: var(--sklearn-color-unfitted-level-0);\n",
       "}\n",
       "\n",
       "#sk-container-id-2 div.sk-toggleable__content.fitted {\n",
       "  /* fitted */\n",
       "  background-color: var(--sklearn-color-fitted-level-0);\n",
       "}\n",
       "\n",
       "#sk-container-id-2 div.sk-toggleable__content pre {\n",
       "  margin: 0.2em;\n",
       "  border-radius: 0.25em;\n",
       "  color: var(--sklearn-color-text);\n",
       "  /* unfitted */\n",
       "  background-color: var(--sklearn-color-unfitted-level-0);\n",
       "}\n",
       "\n",
       "#sk-container-id-2 div.sk-toggleable__content.fitted pre {\n",
       "  /* unfitted */\n",
       "  background-color: var(--sklearn-color-fitted-level-0);\n",
       "}\n",
       "\n",
       "#sk-container-id-2 input.sk-toggleable__control:checked~div.sk-toggleable__content {\n",
       "  /* Expand drop-down */\n",
       "  max-height: 200px;\n",
       "  max-width: 100%;\n",
       "  overflow: auto;\n",
       "}\n",
       "\n",
       "#sk-container-id-2 input.sk-toggleable__control:checked~label.sk-toggleable__label-arrow:before {\n",
       "  content: \"▾\";\n",
       "}\n",
       "\n",
       "/* Pipeline/ColumnTransformer-specific style */\n",
       "\n",
       "#sk-container-id-2 div.sk-label input.sk-toggleable__control:checked~label.sk-toggleable__label {\n",
       "  color: var(--sklearn-color-text);\n",
       "  background-color: var(--sklearn-color-unfitted-level-2);\n",
       "}\n",
       "\n",
       "#sk-container-id-2 div.sk-label.fitted input.sk-toggleable__control:checked~label.sk-toggleable__label {\n",
       "  background-color: var(--sklearn-color-fitted-level-2);\n",
       "}\n",
       "\n",
       "/* Estimator-specific style */\n",
       "\n",
       "/* Colorize estimator box */\n",
       "#sk-container-id-2 div.sk-estimator input.sk-toggleable__control:checked~label.sk-toggleable__label {\n",
       "  /* unfitted */\n",
       "  background-color: var(--sklearn-color-unfitted-level-2);\n",
       "}\n",
       "\n",
       "#sk-container-id-2 div.sk-estimator.fitted input.sk-toggleable__control:checked~label.sk-toggleable__label {\n",
       "  /* fitted */\n",
       "  background-color: var(--sklearn-color-fitted-level-2);\n",
       "}\n",
       "\n",
       "#sk-container-id-2 div.sk-label label.sk-toggleable__label,\n",
       "#sk-container-id-2 div.sk-label label {\n",
       "  /* The background is the default theme color */\n",
       "  color: var(--sklearn-color-text-on-default-background);\n",
       "}\n",
       "\n",
       "/* On hover, darken the color of the background */\n",
       "#sk-container-id-2 div.sk-label:hover label.sk-toggleable__label {\n",
       "  color: var(--sklearn-color-text);\n",
       "  background-color: var(--sklearn-color-unfitted-level-2);\n",
       "}\n",
       "\n",
       "/* Label box, darken color on hover, fitted */\n",
       "#sk-container-id-2 div.sk-label.fitted:hover label.sk-toggleable__label.fitted {\n",
       "  color: var(--sklearn-color-text);\n",
       "  background-color: var(--sklearn-color-fitted-level-2);\n",
       "}\n",
       "\n",
       "/* Estimator label */\n",
       "\n",
       "#sk-container-id-2 div.sk-label label {\n",
       "  font-family: monospace;\n",
       "  font-weight: bold;\n",
       "  display: inline-block;\n",
       "  line-height: 1.2em;\n",
       "}\n",
       "\n",
       "#sk-container-id-2 div.sk-label-container {\n",
       "  text-align: center;\n",
       "}\n",
       "\n",
       "/* Estimator-specific */\n",
       "#sk-container-id-2 div.sk-estimator {\n",
       "  font-family: monospace;\n",
       "  border: 1px dotted var(--sklearn-color-border-box);\n",
       "  border-radius: 0.25em;\n",
       "  box-sizing: border-box;\n",
       "  margin-bottom: 0.5em;\n",
       "  /* unfitted */\n",
       "  background-color: var(--sklearn-color-unfitted-level-0);\n",
       "}\n",
       "\n",
       "#sk-container-id-2 div.sk-estimator.fitted {\n",
       "  /* fitted */\n",
       "  background-color: var(--sklearn-color-fitted-level-0);\n",
       "}\n",
       "\n",
       "/* on hover */\n",
       "#sk-container-id-2 div.sk-estimator:hover {\n",
       "  /* unfitted */\n",
       "  background-color: var(--sklearn-color-unfitted-level-2);\n",
       "}\n",
       "\n",
       "#sk-container-id-2 div.sk-estimator.fitted:hover {\n",
       "  /* fitted */\n",
       "  background-color: var(--sklearn-color-fitted-level-2);\n",
       "}\n",
       "\n",
       "/* Specification for estimator info (e.g. \"i\" and \"?\") */\n",
       "\n",
       "/* Common style for \"i\" and \"?\" */\n",
       "\n",
       ".sk-estimator-doc-link,\n",
       "a:link.sk-estimator-doc-link,\n",
       "a:visited.sk-estimator-doc-link {\n",
       "  float: right;\n",
       "  font-size: smaller;\n",
       "  line-height: 1em;\n",
       "  font-family: monospace;\n",
       "  background-color: var(--sklearn-color-background);\n",
       "  border-radius: 1em;\n",
       "  height: 1em;\n",
       "  width: 1em;\n",
       "  text-decoration: none !important;\n",
       "  margin-left: 0.5em;\n",
       "  text-align: center;\n",
       "  /* unfitted */\n",
       "  border: var(--sklearn-color-unfitted-level-1) 1pt solid;\n",
       "  color: var(--sklearn-color-unfitted-level-1);\n",
       "}\n",
       "\n",
       ".sk-estimator-doc-link.fitted,\n",
       "a:link.sk-estimator-doc-link.fitted,\n",
       "a:visited.sk-estimator-doc-link.fitted {\n",
       "  /* fitted */\n",
       "  border: var(--sklearn-color-fitted-level-1) 1pt solid;\n",
       "  color: var(--sklearn-color-fitted-level-1);\n",
       "}\n",
       "\n",
       "/* On hover */\n",
       "div.sk-estimator:hover .sk-estimator-doc-link:hover,\n",
       ".sk-estimator-doc-link:hover,\n",
       "div.sk-label-container:hover .sk-estimator-doc-link:hover,\n",
       ".sk-estimator-doc-link:hover {\n",
       "  /* unfitted */\n",
       "  background-color: var(--sklearn-color-unfitted-level-3);\n",
       "  color: var(--sklearn-color-background);\n",
       "  text-decoration: none;\n",
       "}\n",
       "\n",
       "div.sk-estimator.fitted:hover .sk-estimator-doc-link.fitted:hover,\n",
       ".sk-estimator-doc-link.fitted:hover,\n",
       "div.sk-label-container:hover .sk-estimator-doc-link.fitted:hover,\n",
       ".sk-estimator-doc-link.fitted:hover {\n",
       "  /* fitted */\n",
       "  background-color: var(--sklearn-color-fitted-level-3);\n",
       "  color: var(--sklearn-color-background);\n",
       "  text-decoration: none;\n",
       "}\n",
       "\n",
       "/* Span, style for the box shown on hovering the info icon */\n",
       ".sk-estimator-doc-link span {\n",
       "  display: none;\n",
       "  z-index: 9999;\n",
       "  position: relative;\n",
       "  font-weight: normal;\n",
       "  right: .2ex;\n",
       "  padding: .5ex;\n",
       "  margin: .5ex;\n",
       "  width: min-content;\n",
       "  min-width: 20ex;\n",
       "  max-width: 50ex;\n",
       "  color: var(--sklearn-color-text);\n",
       "  box-shadow: 2pt 2pt 4pt #999;\n",
       "  /* unfitted */\n",
       "  background: var(--sklearn-color-unfitted-level-0);\n",
       "  border: .5pt solid var(--sklearn-color-unfitted-level-3);\n",
       "}\n",
       "\n",
       ".sk-estimator-doc-link.fitted span {\n",
       "  /* fitted */\n",
       "  background: var(--sklearn-color-fitted-level-0);\n",
       "  border: var(--sklearn-color-fitted-level-3);\n",
       "}\n",
       "\n",
       ".sk-estimator-doc-link:hover span {\n",
       "  display: block;\n",
       "}\n",
       "\n",
       "/* \"?\"-specific style due to the `<a>` HTML tag */\n",
       "\n",
       "#sk-container-id-2 a.estimator_doc_link {\n",
       "  float: right;\n",
       "  font-size: 1rem;\n",
       "  line-height: 1em;\n",
       "  font-family: monospace;\n",
       "  background-color: var(--sklearn-color-background);\n",
       "  border-radius: 1rem;\n",
       "  height: 1rem;\n",
       "  width: 1rem;\n",
       "  text-decoration: none;\n",
       "  /* unfitted */\n",
       "  color: var(--sklearn-color-unfitted-level-1);\n",
       "  border: var(--sklearn-color-unfitted-level-1) 1pt solid;\n",
       "}\n",
       "\n",
       "#sk-container-id-2 a.estimator_doc_link.fitted {\n",
       "  /* fitted */\n",
       "  border: var(--sklearn-color-fitted-level-1) 1pt solid;\n",
       "  color: var(--sklearn-color-fitted-level-1);\n",
       "}\n",
       "\n",
       "/* On hover */\n",
       "#sk-container-id-2 a.estimator_doc_link:hover {\n",
       "  /* unfitted */\n",
       "  background-color: var(--sklearn-color-unfitted-level-3);\n",
       "  color: var(--sklearn-color-background);\n",
       "  text-decoration: none;\n",
       "}\n",
       "\n",
       "#sk-container-id-2 a.estimator_doc_link.fitted:hover {\n",
       "  /* fitted */\n",
       "  background-color: var(--sklearn-color-fitted-level-3);\n",
       "}\n",
       "</style><div id=\"sk-container-id-2\" class=\"sk-top-container\"><div class=\"sk-text-repr-fallback\"><pre>DecisionTreeClassifier()</pre><b>In a Jupyter environment, please rerun this cell to show the HTML representation or trust the notebook. <br />On GitHub, the HTML representation is unable to render, please try loading this page with nbviewer.org.</b></div><div class=\"sk-container\" hidden><div class=\"sk-item\"><div class=\"sk-estimator fitted sk-toggleable\"><input class=\"sk-toggleable__control sk-hidden--visually\" id=\"sk-estimator-id-2\" type=\"checkbox\" checked><label for=\"sk-estimator-id-2\" class=\"sk-toggleable__label fitted sk-toggleable__label-arrow\"><div><div>DecisionTreeClassifier</div></div><div><a class=\"sk-estimator-doc-link fitted\" rel=\"noreferrer\" target=\"_blank\" href=\"https://scikit-learn.org/1.6/modules/generated/sklearn.tree.DecisionTreeClassifier.html\">?<span>Documentation for DecisionTreeClassifier</span></a><span class=\"sk-estimator-doc-link fitted\">i<span>Fitted</span></span></div></label><div class=\"sk-toggleable__content fitted\"><pre>DecisionTreeClassifier()</pre></div> </div></div></div></div>"
      ],
      "text/plain": [
       "DecisionTreeClassifier()"
      ]
     },
     "execution_count": 62,
     "metadata": {},
     "output_type": "execute_result"
    }
   ],
   "source": [
    "dtc = DecisionTreeClassifier()\n",
    "dtc.fit(X_res, y_res)"
   ]
  },
  {
   "cell_type": "code",
   "execution_count": 63,
   "id": "e7cf959d-c5a0-4393-b5db-1ed556c11dab",
   "metadata": {},
   "outputs": [
    {
     "name": "stdout",
     "output_type": "stream",
     "text": [
      "               V1         V2         V3        V4         V5        V6  \\\n",
      "0       -1.359807  -0.072781   2.536347  1.378155  -0.338321  0.462388   \n",
      "1        1.191857   0.266151   0.166480  0.448154   0.060018 -0.082361   \n",
      "2       -1.358354  -1.340163   1.773209  0.379780  -0.503198  1.800499   \n",
      "3       -0.966272  -0.185226   1.792993 -0.863291  -0.010309  1.247203   \n",
      "4       -1.158233   0.877737   1.548718  0.403034  -0.407193  0.095921   \n",
      "...           ...        ...        ...       ...        ...       ...   \n",
      "566501 -20.125619  12.206607 -22.681024  6.127198 -15.322903 -4.361760   \n",
      "566502  -1.744583  -1.323055   0.115354  0.076309  -0.051546  0.043399   \n",
      "566503   1.112967   0.187302  -0.144217  1.270561   0.165664 -0.021225   \n",
      "566504   0.948722   3.237006  -6.081243  5.700611   1.612774 -1.807520   \n",
      "566505  -1.350957   2.062032  -1.546350  2.629086   0.160577 -1.038554   \n",
      "\n",
      "               V7         V8        V9       V10  ...       V19       V20  \\\n",
      "0        0.239599   0.098698  0.363787  0.090794  ...  0.403993  0.251412   \n",
      "1       -0.078803   0.085102 -0.255425 -0.166974  ... -0.145783 -0.069083   \n",
      "2        0.791461   0.247676 -1.514654  0.207643  ... -2.261857  0.524980   \n",
      "3        0.237609   0.377436 -1.387024 -0.054952  ... -1.232622 -0.208038   \n",
      "4        0.592941  -0.270533  0.817739  0.753074  ...  0.803487  0.408542   \n",
      "...           ...        ...       ...       ...  ...       ...       ...   \n",
      "566501 -15.764158  13.443858 -3.963927 -8.831537  ...  1.213446  1.586841   \n",
      "566502   0.861435  -0.369086 -0.609331  0.485186  ... -1.412632 -1.470564   \n",
      "566503   0.058946   0.015206  0.331517 -0.510879  ... -0.210504 -0.001181   \n",
      "566504  -0.996430   0.403097 -3.152551 -3.870111  ... -1.383782  0.303608   \n",
      "566505  -0.940459   0.584964 -1.449346 -2.839624  ... -0.601165  0.080766   \n",
      "\n",
      "             V21       V22       V23       V24       V25       V26       V27  \\\n",
      "0      -0.018307  0.277838 -0.110474  0.066928  0.128539 -0.189115  0.133558   \n",
      "1      -0.225775 -0.638672  0.101288 -0.339846  0.167170  0.125895 -0.008983   \n",
      "2       0.247998  0.771679  0.909412 -0.689281 -0.327642 -0.139097 -0.055353   \n",
      "3      -0.108300  0.005274 -0.190321 -1.175575  0.647376 -0.221929  0.062723   \n",
      "4      -0.009431  0.798278 -0.137458  0.141267 -0.206010  0.502292  0.219422   \n",
      "...          ...       ...       ...       ...       ...       ...       ...   \n",
      "566501  1.752274 -1.432121 -0.828508  0.123140  1.371116 -0.224078  1.588316   \n",
      "566502 -0.628823 -0.501986 -0.406654 -0.410527 -0.052974 -0.486514  0.068420   \n",
      "566503 -0.250573 -0.714731 -0.125634 -0.755479  0.537349 -0.438237  0.041426   \n",
      "566504  0.132247 -0.856727 -0.100772 -0.196107  0.282585  0.146206  0.465549   \n",
      "566505  0.241120 -0.050253  0.002958 -0.372440 -0.016337 -0.189513  0.210417   \n",
      "\n",
      "             V28  \n",
      "0      -0.021053  \n",
      "1       0.014724  \n",
      "2      -0.059752  \n",
      "3       0.061458  \n",
      "4       0.215153  \n",
      "...          ...  \n",
      "566501  0.473847  \n",
      "566502  0.082639  \n",
      "566503  0.048066  \n",
      "566504  0.306804  \n",
      "566505  0.067073  \n",
      "\n",
      "[566506 rows x 28 columns]\n"
     ]
    }
   ],
   "source": [
    "print(X_res)"
   ]
  },
  {
   "cell_type": "code",
   "execution_count": 64,
   "id": "adfff723-e83d-44bc-bc63-290a14a8230d",
   "metadata": {},
   "outputs": [],
   "source": [
    "import  pickle\n",
    "import gzip\n",
    "\n",
    "with gzip.open('dtc.pkl.gz','wb') as f:\n",
    "  pickle.dump(dtc,f)"
   ]
  },
  {
   "cell_type": "code",
   "execution_count": 65,
   "id": "479641d0-42ac-4662-a699-06ba8fad5468",
   "metadata": {},
   "outputs": [],
   "source": [
    "model = pickle.load(gzip.open('dtc.pkl.gz','rb'))"
   ]
  },
  {
   "cell_type": "code",
   "execution_count": 66,
   "id": "f0c83fc3-54be-418d-8fba-d8a783588b43",
   "metadata": {},
   "outputs": [
    {
     "name": "stdout",
     "output_type": "stream",
     "text": [
      "[0]\n"
     ]
    },
    {
     "name": "stderr",
     "output_type": "stream",
     "text": [
      "C:\\Users\\durga\\AppData\\Local\\Programs\\Python\\Python313\\Lib\\site-packages\\sklearn\\utils\\validation.py:2739: UserWarning: X does not have valid feature names, but DecisionTreeClassifier was fitted with feature names\n",
      "  warnings.warn(\n"
     ]
    }
   ],
   "source": [
    "Example_input = [[0.1,1.2,3.2,1.3,1.5,2.2,1.0,1.2,1.3,0.5,0.6,0.7,0.9,2.4,2.4,2.5,2.2,2.6,1.5,1.3,2.6,3.1,3.5,3.6,3.8,2.9,2.7,2.4]]\n",
    "prediction = dtc.predict(Example_input)\n",
    "print(prediction)"
   ]
  },
  {
   "cell_type": "code",
   "execution_count": 67,
   "id": "c2f41ef9-2e7e-4f2e-bdb7-61fd3552c006",
   "metadata": {},
   "outputs": [
    {
     "name": "stdout",
     "output_type": "stream",
     "text": [
      "Valid Transaction\n"
     ]
    }
   ],
   "source": [
    "if prediction ==0:\n",
    "  print('Valid Transaction')\n",
    "else:\n",
    "  print('Fraud Transaction')"
   ]
  },
  {
   "cell_type": "code",
   "execution_count": 68,
   "id": "e977beae-a4df-438c-9c86-20bbcbf08349",
   "metadata": {},
   "outputs": [
    {
     "data": {
      "text/plain": [
       "'1.6.0'"
      ]
     },
     "execution_count": 68,
     "metadata": {},
     "output_type": "execute_result"
    }
   ],
   "source": [
    "import sklearn\n",
    "sklearn.__version__"
   ]
  },
  {
   "cell_type": "code",
   "execution_count": 69,
   "id": "fe189157-6a03-4139-af7d-46e3d1f0c816",
   "metadata": {},
   "outputs": [
    {
     "name": "stdout",
     "output_type": "stream",
     "text": [
      "Requirement already satisfied: streamlit in c:\\users\\durga\\appdata\\local\\programs\\python\\python313\\lib\\site-packages (1.41.1)\n",
      "Requirement already satisfied: altair<6,>=4.0 in c:\\users\\durga\\appdata\\local\\programs\\python\\python313\\lib\\site-packages (from streamlit) (5.5.0)\n",
      "Requirement already satisfied: blinker<2,>=1.0.0 in c:\\users\\durga\\appdata\\local\\programs\\python\\python313\\lib\\site-packages (from streamlit) (1.9.0)\n",
      "Requirement already satisfied: cachetools<6,>=4.0 in c:\\users\\durga\\appdata\\local\\programs\\python\\python313\\lib\\site-packages (from streamlit) (5.5.1)\n",
      "Requirement already satisfied: click<9,>=7.0 in c:\\users\\durga\\appdata\\local\\programs\\python\\python313\\lib\\site-packages (from streamlit) (8.1.8)\n",
      "Requirement already satisfied: numpy<3,>=1.23 in c:\\users\\durga\\appdata\\local\\programs\\python\\python313\\lib\\site-packages (from streamlit) (2.2.2)\n",
      "Requirement already satisfied: packaging<25,>=20 in c:\\users\\durga\\appdata\\local\\programs\\python\\python313\\lib\\site-packages (from streamlit) (24.2)\n",
      "Requirement already satisfied: pandas<3,>=1.4.0 in c:\\users\\durga\\appdata\\local\\programs\\python\\python313\\lib\\site-packages (from streamlit) (2.2.3)\n",
      "Requirement already satisfied: pillow<12,>=7.1.0 in c:\\users\\durga\\appdata\\local\\programs\\python\\python313\\lib\\site-packages (from streamlit) (11.1.0)\n",
      "Requirement already satisfied: protobuf<6,>=3.20 in c:\\users\\durga\\appdata\\local\\programs\\python\\python313\\lib\\site-packages (from streamlit) (5.29.3)\n",
      "Requirement already satisfied: pyarrow>=7.0 in c:\\users\\durga\\appdata\\local\\programs\\python\\python313\\lib\\site-packages (from streamlit) (19.0.0)\n",
      "Requirement already satisfied: requests<3,>=2.27 in c:\\users\\durga\\appdata\\local\\programs\\python\\python313\\lib\\site-packages (from streamlit) (2.32.3)\n",
      "Requirement already satisfied: rich<14,>=10.14.0 in c:\\users\\durga\\appdata\\local\\programs\\python\\python313\\lib\\site-packages (from streamlit) (13.9.4)\n",
      "Requirement already satisfied: tenacity<10,>=8.1.0 in c:\\users\\durga\\appdata\\local\\programs\\python\\python313\\lib\\site-packages (from streamlit) (9.0.0)\n",
      "Requirement already satisfied: toml<2,>=0.10.1 in c:\\users\\durga\\appdata\\local\\programs\\python\\python313\\lib\\site-packages (from streamlit) (0.10.2)\n",
      "Requirement already satisfied: typing-extensions<5,>=4.3.0 in c:\\users\\durga\\appdata\\local\\programs\\python\\python313\\lib\\site-packages (from streamlit) (4.12.2)\n",
      "Requirement already satisfied: watchdog<7,>=2.1.5 in c:\\users\\durga\\appdata\\local\\programs\\python\\python313\\lib\\site-packages (from streamlit) (6.0.0)\n",
      "Requirement already satisfied: gitpython!=3.1.19,<4,>=3.0.7 in c:\\users\\durga\\appdata\\local\\programs\\python\\python313\\lib\\site-packages (from streamlit) (3.1.44)\n",
      "Requirement already satisfied: pydeck<1,>=0.8.0b4 in c:\\users\\durga\\appdata\\local\\programs\\python\\python313\\lib\\site-packages (from streamlit) (0.9.1)\n",
      "Requirement already satisfied: tornado<7,>=6.0.3 in c:\\users\\durga\\appdata\\local\\programs\\python\\python313\\lib\\site-packages (from streamlit) (6.4.2)\n",
      "Requirement already satisfied: jinja2 in c:\\users\\durga\\appdata\\local\\programs\\python\\python313\\lib\\site-packages (from altair<6,>=4.0->streamlit) (3.1.5)\n",
      "Requirement already satisfied: jsonschema>=3.0 in c:\\users\\durga\\appdata\\local\\programs\\python\\python313\\lib\\site-packages (from altair<6,>=4.0->streamlit) (4.23.0)\n",
      "Requirement already satisfied: narwhals>=1.14.2 in c:\\users\\durga\\appdata\\local\\programs\\python\\python313\\lib\\site-packages (from altair<6,>=4.0->streamlit) (1.23.0)\n",
      "Requirement already satisfied: colorama in c:\\users\\durga\\appdata\\local\\programs\\python\\python313\\lib\\site-packages (from click<9,>=7.0->streamlit) (0.4.6)\n",
      "Requirement already satisfied: gitdb<5,>=4.0.1 in c:\\users\\durga\\appdata\\local\\programs\\python\\python313\\lib\\site-packages (from gitpython!=3.1.19,<4,>=3.0.7->streamlit) (4.0.12)\n",
      "Requirement already satisfied: python-dateutil>=2.8.2 in c:\\users\\durga\\appdata\\local\\programs\\python\\python313\\lib\\site-packages (from pandas<3,>=1.4.0->streamlit) (2.9.0.post0)\n",
      "Requirement already satisfied: pytz>=2020.1 in c:\\users\\durga\\appdata\\local\\programs\\python\\python313\\lib\\site-packages (from pandas<3,>=1.4.0->streamlit) (2024.2)\n",
      "Requirement already satisfied: tzdata>=2022.7 in c:\\users\\durga\\appdata\\local\\programs\\python\\python313\\lib\\site-packages (from pandas<3,>=1.4.0->streamlit) (2025.1)\n",
      "Requirement already satisfied: charset-normalizer<4,>=2 in c:\\users\\durga\\appdata\\local\\programs\\python\\python313\\lib\\site-packages (from requests<3,>=2.27->streamlit) (3.4.1)\n",
      "Requirement already satisfied: idna<4,>=2.5 in c:\\users\\durga\\appdata\\local\\programs\\python\\python313\\lib\\site-packages (from requests<3,>=2.27->streamlit) (3.10)\n",
      "Requirement already satisfied: urllib3<3,>=1.21.1 in c:\\users\\durga\\appdata\\local\\programs\\python\\python313\\lib\\site-packages (from requests<3,>=2.27->streamlit) (2.3.0)\n",
      "Requirement already satisfied: certifi>=2017.4.17 in c:\\users\\durga\\appdata\\local\\programs\\python\\python313\\lib\\site-packages (from requests<3,>=2.27->streamlit) (2024.12.14)\n",
      "Requirement already satisfied: markdown-it-py>=2.2.0 in c:\\users\\durga\\appdata\\local\\programs\\python\\python313\\lib\\site-packages (from rich<14,>=10.14.0->streamlit) (3.0.0)\n",
      "Requirement already satisfied: pygments<3.0.0,>=2.13.0 in c:\\users\\durga\\appdata\\local\\programs\\python\\python313\\lib\\site-packages (from rich<14,>=10.14.0->streamlit) (2.19.1)\n",
      "Requirement already satisfied: smmap<6,>=3.0.1 in c:\\users\\durga\\appdata\\local\\programs\\python\\python313\\lib\\site-packages (from gitdb<5,>=4.0.1->gitpython!=3.1.19,<4,>=3.0.7->streamlit) (5.0.2)\n",
      "Requirement already satisfied: MarkupSafe>=2.0 in c:\\users\\durga\\appdata\\local\\programs\\python\\python313\\lib\\site-packages (from jinja2->altair<6,>=4.0->streamlit) (3.0.2)\n",
      "Requirement already satisfied: attrs>=22.2.0 in c:\\users\\durga\\appdata\\local\\programs\\python\\python313\\lib\\site-packages (from jsonschema>=3.0->altair<6,>=4.0->streamlit) (24.3.0)\n",
      "Requirement already satisfied: jsonschema-specifications>=2023.03.6 in c:\\users\\durga\\appdata\\local\\programs\\python\\python313\\lib\\site-packages (from jsonschema>=3.0->altair<6,>=4.0->streamlit) (2024.10.1)\n",
      "Requirement already satisfied: referencing>=0.28.4 in c:\\users\\durga\\appdata\\local\\programs\\python\\python313\\lib\\site-packages (from jsonschema>=3.0->altair<6,>=4.0->streamlit) (0.36.1)\n",
      "Requirement already satisfied: rpds-py>=0.7.1 in c:\\users\\durga\\appdata\\local\\programs\\python\\python313\\lib\\site-packages (from jsonschema>=3.0->altair<6,>=4.0->streamlit) (0.22.3)\n",
      "Requirement already satisfied: mdurl~=0.1 in c:\\users\\durga\\appdata\\local\\programs\\python\\python313\\lib\\site-packages (from markdown-it-py>=2.2.0->rich<14,>=10.14.0->streamlit) (0.1.2)\n",
      "Requirement already satisfied: six>=1.5 in c:\\users\\durga\\appdata\\local\\programs\\python\\python313\\lib\\site-packages (from python-dateutil>=2.8.2->pandas<3,>=1.4.0->streamlit) (1.17.0)\n"
     ]
    }
   ],
   "source": [
    "!pip install streamlit"
   ]
  },
  {
   "cell_type": "code",
   "execution_count": 70,
   "id": "dc3c451b-1786-4722-a0eb-6d8d778d38f3",
   "metadata": {},
   "outputs": [
    {
     "name": "stdout",
     "output_type": "stream",
     "text": [
      "Writing app.py\n"
     ]
    }
   ],
   "source": [
    "%%writefile app.py\n",
    "import streamlit as st\n",
    "import pickle\n",
    "import numpy as np\n",
    "import gzip\n",
    "\n",
    "\n",
    "dtc=pickle.load(gzip.open('dtc.pkl.gz','rb'))\n",
    "\n",
    "st.title(\"CREDIT CARD FRAUD DETECTION\")\n",
    "st.write(\"This application predicts whether a transaction is valid or fraudulent based on the input data\")\n",
    "\n",
    "input_data = st.text_input('Enter the input data(comma separated values)','')\n",
    "\n",
    "\n",
    "submit = st.button('Predict')\n",
    "\n",
    "if submit:\n",
    "   try:\n",
    "      input_split_data = input_data.split(',')\n",
    "      features = np.asarray(input_split_data, dtype=np.float32)\n",
    "      prediction = dtc.predict(features.reshape(1,-1))\n",
    "\n",
    "      if prediction[0]==0:\n",
    "        st.success('Valid Transaction')\n",
    "      else:\n",
    "        st.error('Fraud Transaction')\n",
    "\n",
    "   except ValueError:\n",
    "    st.error('Invalid input')\n",
    "   except Exception as e:\n",
    "    st.error(f'An error occurred: {e}')"
   ]
  },
  {
   "cell_type": "code",
   "execution_count": null,
   "id": "0182af8c-c58b-4c97-b6e1-bd7593391d09",
   "metadata": {},
   "outputs": [],
   "source": [
    "!streamlit run app.py & npx localtunnel --port 8501"
   ]
  },
  {
   "cell_type": "code",
   "execution_count": null,
   "id": "449f2c06-cc46-411d-a8f1-e7ff33a0d5cf",
   "metadata": {},
   "outputs": [],
   "source": []
  }
 ],
 "metadata": {
  "kernelspec": {
   "display_name": "Python 3 (ipykernel)",
   "language": "python",
   "name": "python3"
  },
  "language_info": {
   "codemirror_mode": {
    "name": "ipython",
    "version": 3
   },
   "file_extension": ".py",
   "mimetype": "text/x-python",
   "name": "python",
   "nbconvert_exporter": "python",
   "pygments_lexer": "ipython3",
   "version": "3.13.1"
  }
 },
 "nbformat": 4,
 "nbformat_minor": 5
}
